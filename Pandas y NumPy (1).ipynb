{
 "cells": [
  {
   "cell_type": "code",
   "execution_count": 7,
   "metadata": {
    "executionInfo": {
     "elapsed": 984,
     "status": "ok",
     "timestamp": 1734699336289,
     "user": {
      "displayName": "Jesica Daiana Acosta",
      "userId": "17322361132650003777"
     },
     "user_tz": 180
    },
    "id": "ja8bd0EVNEN4"
   },
   "outputs": [],
   "source": [
    " #numerical python"
   ]
  },
  {
   "cell_type": "code",
   "execution_count": 8,
   "metadata": {
    "executionInfo": {
     "elapsed": 915,
     "status": "ok",
     "timestamp": 1734699337684,
     "user": {
      "displayName": "Jesica Daiana Acosta",
      "userId": "17322361132650003777"
     },
     "user_tz": 180
    },
    "id": "yunrVgMyNJAP"
   },
   "outputs": [],
   "source": [
    "import numpy as np"
   ]
  },
  {
   "cell_type": "code",
   "execution_count": 9,
   "metadata": {
    "executionInfo": {
     "elapsed": 1388,
     "status": "ok",
     "timestamp": 1734699339066,
     "user": {
      "displayName": "Jesica Daiana Acosta",
      "userId": "17322361132650003777"
     },
     "user_tz": 180
    },
    "id": "VS8PfdPGNhyj"
   },
   "outputs": [],
   "source": [
    "import pandas as pd"
   ]
  },
  {
   "cell_type": "markdown",
   "metadata": {
    "id": "nbL3gfRIQCMV"
   },
   "source": []
  },
  {
   "cell_type": "code",
   "execution_count": 10,
   "metadata": {
    "executionInfo": {
     "elapsed": 6,
     "status": "ok",
     "timestamp": 1734699339067,
     "user": {
      "displayName": "Jesica Daiana Acosta",
      "userId": "17322361132650003777"
     },
     "user_tz": 180
    },
    "id": "_pafWam-ObU-"
   },
   "outputs": [
    {
     "name": "stderr",
     "output_type": "stream",
     "text": [
      "<>:1: SyntaxWarning: invalid escape sequence '\\M'\n",
      "<>:1: SyntaxWarning: invalid escape sequence '\\M'\n",
      "C:\\Users\\jesic\\AppData\\Local\\Temp\\ipykernel_1732\\3330832351.py:1: SyntaxWarning: invalid escape sequence '\\M'\n",
      "  df = pd.read_csv(\"G:\\Mi unidad\\DATASETS\\prueba_categoricas.csv\")\n"
     ]
    }
   ],
   "source": [
    "df = pd.read_csv(\"G:\\Mi unidad\\DATASETS\\prueba_categoricas.csv\")"
   ]
  },
  {
   "cell_type": "code",
   "execution_count": 11,
   "metadata": {
    "colab": {
     "base_uri": "https://localhost:8080/",
     "height": 206
    },
    "executionInfo": {
     "elapsed": 648,
     "status": "ok",
     "timestamp": 1734699339709,
     "user": {
      "displayName": "Jesica Daiana Acosta",
      "userId": "17322361132650003777"
     },
     "user_tz": 180
    },
    "id": "LjtZJJAuPTzO",
    "outputId": "62a913f4-be36-4a33-ba17-52446555ba1f"
   },
   "outputs": [
    {
     "data": {
      "text/html": [
       "<div>\n",
       "<style scoped>\n",
       "    .dataframe tbody tr th:only-of-type {\n",
       "        vertical-align: middle;\n",
       "    }\n",
       "\n",
       "    .dataframe tbody tr th {\n",
       "        vertical-align: top;\n",
       "    }\n",
       "\n",
       "    .dataframe thead th {\n",
       "        text-align: right;\n",
       "    }\n",
       "</style>\n",
       "<table border=\"1\" class=\"dataframe\">\n",
       "  <thead>\n",
       "    <tr style=\"text-align: right;\">\n",
       "      <th></th>\n",
       "      <th>Nombre</th>\n",
       "      <th>Edad</th>\n",
       "      <th>Género</th>\n",
       "      <th>Ciudad</th>\n",
       "      <th>Ingreso</th>\n",
       "    </tr>\n",
       "  </thead>\n",
       "  <tbody>\n",
       "    <tr>\n",
       "      <th>0</th>\n",
       "      <td>Ana</td>\n",
       "      <td>23</td>\n",
       "      <td>Femenino</td>\n",
       "      <td>Madrid</td>\n",
       "      <td>30000</td>\n",
       "    </tr>\n",
       "    <tr>\n",
       "      <th>1</th>\n",
       "      <td>Luis</td>\n",
       "      <td>34</td>\n",
       "      <td>Masculino</td>\n",
       "      <td>Barcelona</td>\n",
       "      <td>40000</td>\n",
       "    </tr>\n",
       "    <tr>\n",
       "      <th>2</th>\n",
       "      <td>Carlos</td>\n",
       "      <td>45</td>\n",
       "      <td>Masculino</td>\n",
       "      <td>Madrid</td>\n",
       "      <td>50000</td>\n",
       "    </tr>\n",
       "    <tr>\n",
       "      <th>3</th>\n",
       "      <td>Maria</td>\n",
       "      <td>29</td>\n",
       "      <td>Femenino</td>\n",
       "      <td>Valencia</td>\n",
       "      <td>35000</td>\n",
       "    </tr>\n",
       "    <tr>\n",
       "      <th>4</th>\n",
       "      <td>Pedro</td>\n",
       "      <td>56</td>\n",
       "      <td>Masculino</td>\n",
       "      <td>Sevilla</td>\n",
       "      <td>60000</td>\n",
       "    </tr>\n",
       "  </tbody>\n",
       "</table>\n",
       "</div>"
      ],
      "text/plain": [
       "   Nombre  Edad     Género     Ciudad  Ingreso\n",
       "0     Ana    23   Femenino     Madrid    30000\n",
       "1    Luis    34  Masculino  Barcelona    40000\n",
       "2  Carlos    45  Masculino     Madrid    50000\n",
       "3   Maria    29   Femenino   Valencia    35000\n",
       "4   Pedro    56  Masculino    Sevilla    60000"
      ]
     },
     "execution_count": 11,
     "metadata": {},
     "output_type": "execute_result"
    }
   ],
   "source": [
    "df.head(10)"
   ]
  },
  {
   "cell_type": "code",
   "execution_count": 12,
   "metadata": {
    "colab": {
     "base_uri": "https://localhost:8080/"
    },
    "executionInfo": {
     "elapsed": 40,
     "status": "ok",
     "timestamp": 1734699339710,
     "user": {
      "displayName": "Jesica Daiana Acosta",
      "userId": "17322361132650003777"
     },
     "user_tz": 180
    },
    "id": "AaCuA9TjRQzc",
    "outputId": "b90a19d1-4332-48db-bd35-1bff62550ea7"
   },
   "outputs": [
    {
     "name": "stdout",
     "output_type": "stream",
     "text": [
      "<class 'pandas.core.frame.DataFrame'>\n",
      "RangeIndex: 5 entries, 0 to 4\n",
      "Data columns (total 5 columns):\n",
      " #   Column   Non-Null Count  Dtype \n",
      "---  ------   --------------  ----- \n",
      " 0   Nombre   5 non-null      object\n",
      " 1   Edad     5 non-null      int64 \n",
      " 2   Género   5 non-null      object\n",
      " 3   Ciudad   5 non-null      object\n",
      " 4   Ingreso  5 non-null      int64 \n",
      "dtypes: int64(2), object(3)\n",
      "memory usage: 332.0+ bytes\n"
     ]
    }
   ],
   "source": [
    "df.info()"
   ]
  },
  {
   "cell_type": "code",
   "execution_count": 13,
   "metadata": {
    "colab": {
     "base_uri": "https://localhost:8080/"
    },
    "executionInfo": {
     "elapsed": 32,
     "status": "ok",
     "timestamp": 1734699339710,
     "user": {
      "displayName": "Jesica Daiana Acosta",
      "userId": "17322361132650003777"
     },
     "user_tz": 180
    },
    "id": "szdbCidMPakh",
    "outputId": "f7aa3725-3551-4c99-faf7-7b5ab9cb5687"
   },
   "outputs": [
    {
     "data": {
      "text/plain": [
       "np.float64(43000.0)"
      ]
     },
     "execution_count": 13,
     "metadata": {},
     "output_type": "execute_result"
    }
   ],
   "source": [
    "#promedio de poblacion de todas las ciudades\n",
    "df['Ingreso'].mean()"
   ]
  },
  {
   "cell_type": "code",
   "execution_count": 14,
   "metadata": {
    "colab": {
     "base_uri": "https://localhost:8080/"
    },
    "executionInfo": {
     "elapsed": 27,
     "status": "ok",
     "timestamp": 1734699339710,
     "user": {
      "displayName": "Jesica Daiana Acosta",
      "userId": "17322361132650003777"
     },
     "user_tz": 180
    },
    "id": "MXAW165RQMDD",
    "outputId": "7eb6e186-b093-4546-8cbe-511eb61d1666"
   },
   "outputs": [
    {
     "data": {
      "text/plain": [
       "np.float64(37.4)"
      ]
     },
     "execution_count": 14,
     "metadata": {},
     "output_type": "execute_result"
    }
   ],
   "source": [
    "#promedio de visitantes  de todas las ciudades\n",
    "df['Edad'].mean()"
   ]
  },
  {
   "cell_type": "code",
   "execution_count": 15,
   "metadata": {
    "colab": {
     "base_uri": "https://localhost:8080/"
    },
    "executionInfo": {
     "elapsed": 22,
     "status": "ok",
     "timestamp": 1734699339710,
     "user": {
      "displayName": "Jesica Daiana Acosta",
      "userId": "17322361132650003777"
     },
     "user_tz": 180
    },
    "id": "56sYG1EpQccA",
    "outputId": "5a990725-daba-41c0-c629-6388d61a1241"
   },
   "outputs": [
    {
     "data": {
      "text/plain": [
       "np.float64(43000.0)"
      ]
     },
     "execution_count": 15,
     "metadata": {},
     "output_type": "execute_result"
    }
   ],
   "source": [
    "np.round(df['Ingreso'].mean()) #Evenly round to the given number of decimals. Redondear uniformemente al número dado de decimales."
   ]
  },
  {
   "cell_type": "code",
   "execution_count": 16,
   "metadata": {
    "colab": {
     "base_uri": "https://localhost:8080/"
    },
    "executionInfo": {
     "elapsed": 21,
     "status": "ok",
     "timestamp": 1734699339711,
     "user": {
      "displayName": "Jesica Daiana Acosta",
      "userId": "17322361132650003777"
     },
     "user_tz": 180
    },
    "id": "Uj04ty2SRIWJ",
    "outputId": "ae88f932-ab17-4c94-b2cf-51dc0f3338ff"
   },
   "outputs": [
    {
     "data": {
      "text/plain": [
       "np.int64(23)"
      ]
     },
     "execution_count": 16,
     "metadata": {},
     "output_type": "execute_result"
    }
   ],
   "source": [
    "df['Edad'].min()"
   ]
  },
  {
   "cell_type": "code",
   "execution_count": 53,
   "metadata": {
    "colab": {
     "base_uri": "https://localhost:8080/",
     "height": 790
    },
    "executionInfo": {
     "elapsed": 946,
     "status": "ok",
     "timestamp": 1734699340638,
     "user": {
      "displayName": "Jesica Daiana Acosta",
      "userId": "17322361132650003777"
     },
     "user_tz": 180
    },
    "id": "TfCZ7lpWXFKX",
    "outputId": "924146e9-78c3-4c3c-8dca-e18d0ce9b86e"
   },
   "outputs": [
    {
     "data": {
      "text/html": [
       "<div>\n",
       "<style scoped>\n",
       "    .dataframe tbody tr th:only-of-type {\n",
       "        vertical-align: middle;\n",
       "    }\n",
       "\n",
       "    .dataframe tbody tr th {\n",
       "        vertical-align: top;\n",
       "    }\n",
       "\n",
       "    .dataframe thead th {\n",
       "        text-align: right;\n",
       "    }\n",
       "</style>\n",
       "<table border=\"1\" class=\"dataframe\">\n",
       "  <thead>\n",
       "    <tr style=\"text-align: right;\">\n",
       "      <th></th>\n",
       "      <th>id_renabap</th>\n",
       "      <th>nombre_barrio</th>\n",
       "      <th>provincia</th>\n",
       "      <th>departamento</th>\n",
       "      <th>localidad</th>\n",
       "      <th>cantidad_viviendas_aproximadas</th>\n",
       "      <th>cantidad_familias_aproximada</th>\n",
       "      <th>decada_de_creacion</th>\n",
       "      <th>anio_de_creacion</th>\n",
       "      <th>energia_electrica</th>\n",
       "      <th>efluentes_cloacales</th>\n",
       "      <th>agua_corriente</th>\n",
       "      <th>cocina</th>\n",
       "      <th>calefaccion</th>\n",
       "      <th>titulo_propiedad</th>\n",
       "      <th>clasificacion_barrio</th>\n",
       "      <th>superficie_m2</th>\n",
       "    </tr>\n",
       "  </thead>\n",
       "  <tbody>\n",
       "    <tr>\n",
       "      <th>0</th>\n",
       "      <td>1</td>\n",
       "      <td>Monterrey I</td>\n",
       "      <td>Buenos Aires</td>\n",
       "      <td>Pilar</td>\n",
       "      <td>Presidente Derqui</td>\n",
       "      <td>40</td>\n",
       "      <td>44</td>\n",
       "      <td>Década 1990</td>\n",
       "      <td>NaN</td>\n",
       "      <td>Conexión regular a la red con medidor prepago</td>\n",
       "      <td>Desagüe a cámara séptica y pozo ciego</td>\n",
       "      <td>Bomba de agua de pozo domiciliaria</td>\n",
       "      <td>Gas en garrafa</td>\n",
       "      <td>Sin Datos</td>\n",
       "      <td>NO</td>\n",
       "      <td>Asentamiento</td>\n",
       "      <td>11674</td>\n",
       "    </tr>\n",
       "    <tr>\n",
       "      <th>1</th>\n",
       "      <td>2</td>\n",
       "      <td>Malvinas II</td>\n",
       "      <td>Buenos Aires</td>\n",
       "      <td>La Plata</td>\n",
       "      <td>José Melchor Romero</td>\n",
       "      <td>290</td>\n",
       "      <td>319</td>\n",
       "      <td>Década 1990</td>\n",
       "      <td>NaN</td>\n",
       "      <td>Conexión irregular a la red</td>\n",
       "      <td>Desagüe a cámara séptica y pozo ciego</td>\n",
       "      <td>Conexión irregular a la red de agua</td>\n",
       "      <td>Gas en garrafa</td>\n",
       "      <td>Leña o carbón</td>\n",
       "      <td>NO</td>\n",
       "      <td>Asentamiento</td>\n",
       "      <td>98093</td>\n",
       "    </tr>\n",
       "    <tr>\n",
       "      <th>2</th>\n",
       "      <td>3</td>\n",
       "      <td>Ferroviario</td>\n",
       "      <td>Buenos Aires</td>\n",
       "      <td>La Plata</td>\n",
       "      <td>Angel Etcheverry</td>\n",
       "      <td>133</td>\n",
       "      <td>146</td>\n",
       "      <td>Década 2000</td>\n",
       "      <td>NaN</td>\n",
       "      <td>Conexión irregular a la red</td>\n",
       "      <td>Desagüe sólo a pozo negro/ciego u hoyo</td>\n",
       "      <td>Conexión formal a la red de agua con factura</td>\n",
       "      <td>Gas en garrafa</td>\n",
       "      <td>Leña o carbón</td>\n",
       "      <td>NO</td>\n",
       "      <td>Asentamiento</td>\n",
       "      <td>75887</td>\n",
       "    </tr>\n",
       "    <tr>\n",
       "      <th>3</th>\n",
       "      <td>4</td>\n",
       "      <td>La Favelita</td>\n",
       "      <td>Buenos Aires</td>\n",
       "      <td>La Plata</td>\n",
       "      <td>Tolosa</td>\n",
       "      <td>122</td>\n",
       "      <td>134</td>\n",
       "      <td>Década 1970</td>\n",
       "      <td>NaN</td>\n",
       "      <td>Conexión irregular a la red</td>\n",
       "      <td>Desagüe sólo a pozo negro/ciego u hoyo</td>\n",
       "      <td>Conexión irregular a la red de agua</td>\n",
       "      <td>Gas en garrafa</td>\n",
       "      <td>Energía eléctrica</td>\n",
       "      <td>NO</td>\n",
       "      <td>Asentamiento</td>\n",
       "      <td>36889</td>\n",
       "    </tr>\n",
       "    <tr>\n",
       "      <th>4</th>\n",
       "      <td>5</td>\n",
       "      <td>Casaca</td>\n",
       "      <td>Buenos Aires</td>\n",
       "      <td>La Plata</td>\n",
       "      <td>City Bell</td>\n",
       "      <td>20</td>\n",
       "      <td>22</td>\n",
       "      <td>Década 2000</td>\n",
       "      <td>NaN</td>\n",
       "      <td>Conexión irregular a la red</td>\n",
       "      <td>Desagüe a cámara séptica y pozo ciego</td>\n",
       "      <td>Bomba de agua de pozo domiciliaria</td>\n",
       "      <td>Gas en garrafa</td>\n",
       "      <td>Sin Datos</td>\n",
       "      <td>NO</td>\n",
       "      <td>Asentamiento</td>\n",
       "      <td>25768</td>\n",
       "    </tr>\n",
       "    <tr>\n",
       "      <th>...</th>\n",
       "      <td>...</td>\n",
       "      <td>...</td>\n",
       "      <td>...</td>\n",
       "      <td>...</td>\n",
       "      <td>...</td>\n",
       "      <td>...</td>\n",
       "      <td>...</td>\n",
       "      <td>...</td>\n",
       "      <td>...</td>\n",
       "      <td>...</td>\n",
       "      <td>...</td>\n",
       "      <td>...</td>\n",
       "      <td>...</td>\n",
       "      <td>...</td>\n",
       "      <td>...</td>\n",
       "      <td>...</td>\n",
       "      <td>...</td>\n",
       "    </tr>\n",
       "    <tr>\n",
       "      <th>6462</th>\n",
       "      <td>6862</td>\n",
       "      <td>Ferroviario</td>\n",
       "      <td>Tucumán</td>\n",
       "      <td>Cruz Alta</td>\n",
       "      <td>Las Cejas</td>\n",
       "      <td>160</td>\n",
       "      <td>176</td>\n",
       "      <td>Década 1920</td>\n",
       "      <td>NaN</td>\n",
       "      <td>Conexión irregular a la red</td>\n",
       "      <td>Desagüe a cámara séptica y pozo ciego</td>\n",
       "      <td>Bomba de agua de pozo comunitaria</td>\n",
       "      <td>Gas en garrafa</td>\n",
       "      <td>Gas en garrafa</td>\n",
       "      <td>NO</td>\n",
       "      <td>Asentamiento</td>\n",
       "      <td>403180</td>\n",
       "    </tr>\n",
       "    <tr>\n",
       "      <th>6463</th>\n",
       "      <td>6863</td>\n",
       "      <td>Pacará Pintado</td>\n",
       "      <td>Tucumán</td>\n",
       "      <td>Cruz Alta</td>\n",
       "      <td>San Andrés</td>\n",
       "      <td>20</td>\n",
       "      <td>22</td>\n",
       "      <td>Década 2000</td>\n",
       "      <td>NaN</td>\n",
       "      <td>Conexión formal a la red con medidor domicilia...</td>\n",
       "      <td>Desagüe sólo a pozo negro/ciego u hoyo</td>\n",
       "      <td>Bomba de agua de pozo comunitaria</td>\n",
       "      <td>Gas en garrafa</td>\n",
       "      <td>Leña o carbón</td>\n",
       "      <td>NO</td>\n",
       "      <td>Asentamiento</td>\n",
       "      <td>12196</td>\n",
       "    </tr>\n",
       "    <tr>\n",
       "      <th>6464</th>\n",
       "      <td>6864</td>\n",
       "      <td>Villa Rosario</td>\n",
       "      <td>Tucumán</td>\n",
       "      <td>Lules</td>\n",
       "      <td>Ingenio San Pablo</td>\n",
       "      <td>45</td>\n",
       "      <td>50</td>\n",
       "      <td>Década 1990</td>\n",
       "      <td>NaN</td>\n",
       "      <td>Conexión formal a la red con medidor domicilia...</td>\n",
       "      <td>Desagüe sólo a pozo negro/ciego u hoyo</td>\n",
       "      <td>Conexión irregular a la red de agua</td>\n",
       "      <td>Gas en garrafa</td>\n",
       "      <td>Inexistente</td>\n",
       "      <td>NO</td>\n",
       "      <td>Villa</td>\n",
       "      <td>34006</td>\n",
       "    </tr>\n",
       "    <tr>\n",
       "      <th>6465</th>\n",
       "      <td>6865</td>\n",
       "      <td>Ampliación 130 viviendas</td>\n",
       "      <td>Tucumán</td>\n",
       "      <td>Capital</td>\n",
       "      <td>San Miguel De Tucumán</td>\n",
       "      <td>19</td>\n",
       "      <td>21</td>\n",
       "      <td>Década 2010</td>\n",
       "      <td>2014.0</td>\n",
       "      <td>Conexión formal a la red con medidor domicilia...</td>\n",
       "      <td>Desagüe sólo a pozo negro/ciego u hoyo</td>\n",
       "      <td>Conexión irregular a la red de agua</td>\n",
       "      <td>Gas en garrafa</td>\n",
       "      <td>Gas en garrafa</td>\n",
       "      <td>NO</td>\n",
       "      <td>Asentamiento</td>\n",
       "      <td>13992</td>\n",
       "    </tr>\n",
       "    <tr>\n",
       "      <th>6466</th>\n",
       "      <td>6866</td>\n",
       "      <td>Virgen Del Valle</td>\n",
       "      <td>Tucumán</td>\n",
       "      <td>Tafí Viejo</td>\n",
       "      <td>Las Talitas</td>\n",
       "      <td>35</td>\n",
       "      <td>39</td>\n",
       "      <td>Década 2010</td>\n",
       "      <td>2016.0</td>\n",
       "      <td>Conexión irregular a la red</td>\n",
       "      <td>Desagüe sólo a pozo negro/ciego u hoyo</td>\n",
       "      <td>Conexión irregular a la red de agua</td>\n",
       "      <td>Gas en garrafa</td>\n",
       "      <td>Leña o carbón</td>\n",
       "      <td>NO</td>\n",
       "      <td>Asentamiento</td>\n",
       "      <td>26761</td>\n",
       "    </tr>\n",
       "  </tbody>\n",
       "</table>\n",
       "<p>6467 rows × 17 columns</p>\n",
       "</div>"
      ],
      "text/plain": [
       "      id_renabap             nombre_barrio     provincia departamento  \\\n",
       "0              1               Monterrey I  Buenos Aires        Pilar   \n",
       "1              2               Malvinas II  Buenos Aires     La Plata   \n",
       "2              3               Ferroviario  Buenos Aires     La Plata   \n",
       "3              4               La Favelita  Buenos Aires     La Plata   \n",
       "4              5                    Casaca  Buenos Aires     La Plata   \n",
       "...          ...                       ...           ...          ...   \n",
       "6462        6862               Ferroviario       Tucumán    Cruz Alta   \n",
       "6463        6863            Pacará Pintado       Tucumán    Cruz Alta   \n",
       "6464        6864             Villa Rosario       Tucumán        Lules   \n",
       "6465        6865  Ampliación 130 viviendas       Tucumán      Capital   \n",
       "6466        6866          Virgen Del Valle       Tucumán   Tafí Viejo   \n",
       "\n",
       "                  localidad  cantidad_viviendas_aproximadas  \\\n",
       "0         Presidente Derqui                              40   \n",
       "1       José Melchor Romero                             290   \n",
       "2          Angel Etcheverry                             133   \n",
       "3                    Tolosa                             122   \n",
       "4                 City Bell                              20   \n",
       "...                     ...                             ...   \n",
       "6462              Las Cejas                             160   \n",
       "6463             San Andrés                              20   \n",
       "6464      Ingenio San Pablo                              45   \n",
       "6465  San Miguel De Tucumán                              19   \n",
       "6466            Las Talitas                              35   \n",
       "\n",
       "      cantidad_familias_aproximada decada_de_creacion  anio_de_creacion  \\\n",
       "0                               44        Década 1990               NaN   \n",
       "1                              319        Década 1990               NaN   \n",
       "2                              146        Década 2000               NaN   \n",
       "3                              134        Década 1970               NaN   \n",
       "4                               22        Década 2000               NaN   \n",
       "...                            ...                ...               ...   \n",
       "6462                           176        Década 1920               NaN   \n",
       "6463                            22        Década 2000               NaN   \n",
       "6464                            50        Década 1990               NaN   \n",
       "6465                            21        Década 2010            2014.0   \n",
       "6466                            39        Década 2010            2016.0   \n",
       "\n",
       "                                      energia_electrica  \\\n",
       "0         Conexión regular a la red con medidor prepago   \n",
       "1                           Conexión irregular a la red   \n",
       "2                           Conexión irregular a la red   \n",
       "3                           Conexión irregular a la red   \n",
       "4                           Conexión irregular a la red   \n",
       "...                                                 ...   \n",
       "6462                        Conexión irregular a la red   \n",
       "6463  Conexión formal a la red con medidor domicilia...   \n",
       "6464  Conexión formal a la red con medidor domicilia...   \n",
       "6465  Conexión formal a la red con medidor domicilia...   \n",
       "6466                        Conexión irregular a la red   \n",
       "\n",
       "                         efluentes_cloacales  \\\n",
       "0      Desagüe a cámara séptica y pozo ciego   \n",
       "1      Desagüe a cámara séptica y pozo ciego   \n",
       "2     Desagüe sólo a pozo negro/ciego u hoyo   \n",
       "3     Desagüe sólo a pozo negro/ciego u hoyo   \n",
       "4      Desagüe a cámara séptica y pozo ciego   \n",
       "...                                      ...   \n",
       "6462   Desagüe a cámara séptica y pozo ciego   \n",
       "6463  Desagüe sólo a pozo negro/ciego u hoyo   \n",
       "6464  Desagüe sólo a pozo negro/ciego u hoyo   \n",
       "6465  Desagüe sólo a pozo negro/ciego u hoyo   \n",
       "6466  Desagüe sólo a pozo negro/ciego u hoyo   \n",
       "\n",
       "                                    agua_corriente          cocina  \\\n",
       "0               Bomba de agua de pozo domiciliaria  Gas en garrafa   \n",
       "1              Conexión irregular a la red de agua  Gas en garrafa   \n",
       "2     Conexión formal a la red de agua con factura  Gas en garrafa   \n",
       "3              Conexión irregular a la red de agua  Gas en garrafa   \n",
       "4               Bomba de agua de pozo domiciliaria  Gas en garrafa   \n",
       "...                                            ...             ...   \n",
       "6462             Bomba de agua de pozo comunitaria  Gas en garrafa   \n",
       "6463             Bomba de agua de pozo comunitaria  Gas en garrafa   \n",
       "6464           Conexión irregular a la red de agua  Gas en garrafa   \n",
       "6465           Conexión irregular a la red de agua  Gas en garrafa   \n",
       "6466           Conexión irregular a la red de agua  Gas en garrafa   \n",
       "\n",
       "            calefaccion titulo_propiedad clasificacion_barrio  superficie_m2  \n",
       "0             Sin Datos               NO         Asentamiento          11674  \n",
       "1         Leña o carbón               NO         Asentamiento          98093  \n",
       "2         Leña o carbón               NO         Asentamiento          75887  \n",
       "3     Energía eléctrica               NO         Asentamiento          36889  \n",
       "4             Sin Datos               NO         Asentamiento          25768  \n",
       "...                 ...              ...                  ...            ...  \n",
       "6462     Gas en garrafa               NO         Asentamiento         403180  \n",
       "6463      Leña o carbón               NO         Asentamiento          12196  \n",
       "6464        Inexistente               NO                Villa          34006  \n",
       "6465     Gas en garrafa               NO         Asentamiento          13992  \n",
       "6466      Leña o carbón               NO         Asentamiento          26761  \n",
       "\n",
       "[6467 rows x 17 columns]"
      ]
     },
     "execution_count": 53,
     "metadata": {},
     "output_type": "execute_result"
    }
   ],
   "source": [
    "df1 = pd.read_csv(\"G:/Mi unidad/DATASETS/20231205_info_publica_datos_barrios.csv\")\n",
    "df1"
   ]
  },
  {
   "cell_type": "code",
   "execution_count": 54,
   "metadata": {},
   "outputs": [
    {
     "data": {
      "text/plain": [
       "id_renabap                           0\n",
       "nombre_barrio                        0\n",
       "provincia                            0\n",
       "departamento                         0\n",
       "localidad                            0\n",
       "cantidad_viviendas_aproximadas       0\n",
       "cantidad_familias_aproximada         0\n",
       "decada_de_creacion                   0\n",
       "anio_de_creacion                  4779\n",
       "energia_electrica                    0\n",
       "efluentes_cloacales                  0\n",
       "agua_corriente                       0\n",
       "cocina                               0\n",
       "calefaccion                          0\n",
       "titulo_propiedad                     0\n",
       "clasificacion_barrio                 0\n",
       "superficie_m2                        0\n",
       "dtype: int64"
      ]
     },
     "execution_count": 54,
     "metadata": {},
     "output_type": "execute_result"
    }
   ],
   "source": [
    "# Identificar columnas con valores nulos\n",
    "df1.isnull().sum()\n",
    "#me devuelve los nulos, no modifica el df original"
   ]
  },
  {
   "cell_type": "code",
   "execution_count": 55,
   "metadata": {},
   "outputs": [
    {
     "data": {
      "text/html": [
       "<div>\n",
       "<style scoped>\n",
       "    .dataframe tbody tr th:only-of-type {\n",
       "        vertical-align: middle;\n",
       "    }\n",
       "\n",
       "    .dataframe tbody tr th {\n",
       "        vertical-align: top;\n",
       "    }\n",
       "\n",
       "    .dataframe thead th {\n",
       "        text-align: right;\n",
       "    }\n",
       "</style>\n",
       "<table border=\"1\" class=\"dataframe\">\n",
       "  <thead>\n",
       "    <tr style=\"text-align: right;\">\n",
       "      <th></th>\n",
       "      <th>id_renabap</th>\n",
       "      <th>nombre_barrio</th>\n",
       "      <th>provincia</th>\n",
       "      <th>departamento</th>\n",
       "      <th>localidad</th>\n",
       "      <th>cantidad_viviendas_aproximadas</th>\n",
       "      <th>cantidad_familias_aproximada</th>\n",
       "      <th>decada_de_creacion</th>\n",
       "      <th>anio_de_creacion</th>\n",
       "      <th>energia_electrica</th>\n",
       "      <th>efluentes_cloacales</th>\n",
       "      <th>agua_corriente</th>\n",
       "      <th>cocina</th>\n",
       "      <th>calefaccion</th>\n",
       "      <th>titulo_propiedad</th>\n",
       "      <th>clasificacion_barrio</th>\n",
       "      <th>superficie_m2</th>\n",
       "    </tr>\n",
       "  </thead>\n",
       "  <tbody>\n",
       "    <tr>\n",
       "      <th>0</th>\n",
       "      <td>1</td>\n",
       "      <td>Monterrey I</td>\n",
       "      <td>Buenos Aires</td>\n",
       "      <td>Pilar</td>\n",
       "      <td>Presidente Derqui</td>\n",
       "      <td>40</td>\n",
       "      <td>44</td>\n",
       "      <td>Década 1990</td>\n",
       "      <td>2014.0</td>\n",
       "      <td>Conexión regular a la red con medidor prepago</td>\n",
       "      <td>Desagüe a cámara séptica y pozo ciego</td>\n",
       "      <td>Bomba de agua de pozo domiciliaria</td>\n",
       "      <td>Gas en garrafa</td>\n",
       "      <td>Sin Datos</td>\n",
       "      <td>NO</td>\n",
       "      <td>Asentamiento</td>\n",
       "      <td>11674</td>\n",
       "    </tr>\n",
       "    <tr>\n",
       "      <th>1</th>\n",
       "      <td>2</td>\n",
       "      <td>Malvinas II</td>\n",
       "      <td>Buenos Aires</td>\n",
       "      <td>La Plata</td>\n",
       "      <td>José Melchor Romero</td>\n",
       "      <td>290</td>\n",
       "      <td>319</td>\n",
       "      <td>Década 1990</td>\n",
       "      <td>2014.0</td>\n",
       "      <td>Conexión irregular a la red</td>\n",
       "      <td>Desagüe a cámara séptica y pozo ciego</td>\n",
       "      <td>Conexión irregular a la red de agua</td>\n",
       "      <td>Gas en garrafa</td>\n",
       "      <td>Leña o carbón</td>\n",
       "      <td>NO</td>\n",
       "      <td>Asentamiento</td>\n",
       "      <td>98093</td>\n",
       "    </tr>\n",
       "    <tr>\n",
       "      <th>2</th>\n",
       "      <td>3</td>\n",
       "      <td>Ferroviario</td>\n",
       "      <td>Buenos Aires</td>\n",
       "      <td>La Plata</td>\n",
       "      <td>Angel Etcheverry</td>\n",
       "      <td>133</td>\n",
       "      <td>146</td>\n",
       "      <td>Década 2000</td>\n",
       "      <td>2014.0</td>\n",
       "      <td>Conexión irregular a la red</td>\n",
       "      <td>Desagüe sólo a pozo negro/ciego u hoyo</td>\n",
       "      <td>Conexión formal a la red de agua con factura</td>\n",
       "      <td>Gas en garrafa</td>\n",
       "      <td>Leña o carbón</td>\n",
       "      <td>NO</td>\n",
       "      <td>Asentamiento</td>\n",
       "      <td>75887</td>\n",
       "    </tr>\n",
       "    <tr>\n",
       "      <th>3</th>\n",
       "      <td>4</td>\n",
       "      <td>La Favelita</td>\n",
       "      <td>Buenos Aires</td>\n",
       "      <td>La Plata</td>\n",
       "      <td>Tolosa</td>\n",
       "      <td>122</td>\n",
       "      <td>134</td>\n",
       "      <td>Década 1970</td>\n",
       "      <td>2014.0</td>\n",
       "      <td>Conexión irregular a la red</td>\n",
       "      <td>Desagüe sólo a pozo negro/ciego u hoyo</td>\n",
       "      <td>Conexión irregular a la red de agua</td>\n",
       "      <td>Gas en garrafa</td>\n",
       "      <td>Energía eléctrica</td>\n",
       "      <td>NO</td>\n",
       "      <td>Asentamiento</td>\n",
       "      <td>36889</td>\n",
       "    </tr>\n",
       "    <tr>\n",
       "      <th>4</th>\n",
       "      <td>5</td>\n",
       "      <td>Casaca</td>\n",
       "      <td>Buenos Aires</td>\n",
       "      <td>La Plata</td>\n",
       "      <td>City Bell</td>\n",
       "      <td>20</td>\n",
       "      <td>22</td>\n",
       "      <td>Década 2000</td>\n",
       "      <td>2014.0</td>\n",
       "      <td>Conexión irregular a la red</td>\n",
       "      <td>Desagüe a cámara séptica y pozo ciego</td>\n",
       "      <td>Bomba de agua de pozo domiciliaria</td>\n",
       "      <td>Gas en garrafa</td>\n",
       "      <td>Sin Datos</td>\n",
       "      <td>NO</td>\n",
       "      <td>Asentamiento</td>\n",
       "      <td>25768</td>\n",
       "    </tr>\n",
       "  </tbody>\n",
       "</table>\n",
       "</div>"
      ],
      "text/plain": [
       "   id_renabap nombre_barrio     provincia departamento            localidad  \\\n",
       "0           1   Monterrey I  Buenos Aires        Pilar    Presidente Derqui   \n",
       "1           2   Malvinas II  Buenos Aires     La Plata  José Melchor Romero   \n",
       "2           3   Ferroviario  Buenos Aires     La Plata     Angel Etcheverry   \n",
       "3           4   La Favelita  Buenos Aires     La Plata               Tolosa   \n",
       "4           5        Casaca  Buenos Aires     La Plata            City Bell   \n",
       "\n",
       "   cantidad_viviendas_aproximadas  cantidad_familias_aproximada  \\\n",
       "0                              40                            44   \n",
       "1                             290                           319   \n",
       "2                             133                           146   \n",
       "3                             122                           134   \n",
       "4                              20                            22   \n",
       "\n",
       "  decada_de_creacion  anio_de_creacion  \\\n",
       "0        Década 1990            2014.0   \n",
       "1        Década 1990            2014.0   \n",
       "2        Década 2000            2014.0   \n",
       "3        Década 1970            2014.0   \n",
       "4        Década 2000            2014.0   \n",
       "\n",
       "                               energia_electrica  \\\n",
       "0  Conexión regular a la red con medidor prepago   \n",
       "1                    Conexión irregular a la red   \n",
       "2                    Conexión irregular a la red   \n",
       "3                    Conexión irregular a la red   \n",
       "4                    Conexión irregular a la red   \n",
       "\n",
       "                      efluentes_cloacales  \\\n",
       "0   Desagüe a cámara séptica y pozo ciego   \n",
       "1   Desagüe a cámara séptica y pozo ciego   \n",
       "2  Desagüe sólo a pozo negro/ciego u hoyo   \n",
       "3  Desagüe sólo a pozo negro/ciego u hoyo   \n",
       "4   Desagüe a cámara séptica y pozo ciego   \n",
       "\n",
       "                                 agua_corriente          cocina  \\\n",
       "0            Bomba de agua de pozo domiciliaria  Gas en garrafa   \n",
       "1           Conexión irregular a la red de agua  Gas en garrafa   \n",
       "2  Conexión formal a la red de agua con factura  Gas en garrafa   \n",
       "3           Conexión irregular a la red de agua  Gas en garrafa   \n",
       "4            Bomba de agua de pozo domiciliaria  Gas en garrafa   \n",
       "\n",
       "         calefaccion titulo_propiedad clasificacion_barrio  superficie_m2  \n",
       "0          Sin Datos               NO         Asentamiento          11674  \n",
       "1      Leña o carbón               NO         Asentamiento          98093  \n",
       "2      Leña o carbón               NO         Asentamiento          75887  \n",
       "3  Energía eléctrica               NO         Asentamiento          36889  \n",
       "4          Sin Datos               NO         Asentamiento          25768  "
      ]
     },
     "execution_count": 55,
     "metadata": {},
     "output_type": "execute_result"
    }
   ],
   "source": [
    "# Reemplazar valores nulos en esas columnas con la mediana (en este caos conviene asi)\n",
    "df1['anio_de_creacion'] = df1['anio_de_creacion'].fillna(df1['anio_de_creacion'].median())\n",
    "df1.head()"
   ]
  },
  {
   "cell_type": "code",
   "execution_count": 61,
   "metadata": {},
   "outputs": [
    {
     "data": {
      "text/plain": [
       "id_renabap                        0\n",
       "nombre_barrio                     0\n",
       "provincia                         0\n",
       "departamento                      0\n",
       "localidad                         0\n",
       "cantidad_viviendas_aproximadas    0\n",
       "cantidad_familias_aproximada      0\n",
       "decada_de_creacion                0\n",
       "anio_de_creacion                  0\n",
       "energia_electrica                 0\n",
       "efluentes_cloacales               0\n",
       "agua_corriente                    0\n",
       "cocina                            0\n",
       "calefaccion                       0\n",
       "titulo_propiedad                  0\n",
       "clasificacion_barrio              0\n",
       "superficie_m2                     0\n",
       "dtype: int64"
      ]
     },
     "execution_count": 61,
     "metadata": {},
     "output_type": "execute_result"
    }
   ],
   "source": [
    "# Identificar columnas con valores nulos\n",
    "df1.isnull().sum()"
   ]
  },
  {
   "cell_type": "code",
   "execution_count": 57,
   "metadata": {},
   "outputs": [
    {
     "name": "stdout",
     "output_type": "stream",
     "text": [
      "<class 'pandas.core.frame.DataFrame'>\n",
      "RangeIndex: 6467 entries, 0 to 6466\n",
      "Data columns (total 17 columns):\n",
      " #   Column                          Non-Null Count  Dtype  \n",
      "---  ------                          --------------  -----  \n",
      " 0   id_renabap                      6467 non-null   int64  \n",
      " 1   nombre_barrio                   6467 non-null   object \n",
      " 2   provincia                       6467 non-null   object \n",
      " 3   departamento                    6467 non-null   object \n",
      " 4   localidad                       6467 non-null   object \n",
      " 5   cantidad_viviendas_aproximadas  6467 non-null   int64  \n",
      " 6   cantidad_familias_aproximada    6467 non-null   int64  \n",
      " 7   decada_de_creacion              6467 non-null   object \n",
      " 8   anio_de_creacion                6467 non-null   float64\n",
      " 9   energia_electrica               6467 non-null   object \n",
      " 10  efluentes_cloacales             6467 non-null   object \n",
      " 11  agua_corriente                  6467 non-null   object \n",
      " 12  cocina                          6467 non-null   object \n",
      " 13  calefaccion                     6467 non-null   object \n",
      " 14  titulo_propiedad                6467 non-null   object \n",
      " 15  clasificacion_barrio            6467 non-null   object \n",
      " 16  superficie_m2                   6467 non-null   int64  \n",
      "dtypes: float64(1), int64(4), object(12)\n",
      "memory usage: 859.0+ KB\n"
     ]
    }
   ],
   "source": [
    "df1.info()"
   ]
  },
  {
   "cell_type": "code",
   "execution_count": 64,
   "metadata": {
    "colab": {
     "base_uri": "https://localhost:8080/"
    },
    "executionInfo": {
     "elapsed": 42,
     "status": "ok",
     "timestamp": 1734699340638,
     "user": {
      "displayName": "Jesica Daiana Acosta",
      "userId": "17322361132650003777"
     },
     "user_tz": 180
    },
    "id": "rfPIajW-TY7w",
    "outputId": "2bc6e4b0-85e8-4523-f4da-ade2d6227593"
   },
   "outputs": [
    {
     "name": "stdout",
     "output_type": "stream",
     "text": [
      "2                                    Gas en garrafa\n",
      "4                                    Gas en garrafa\n",
      "277                                  Gas en garrafa\n",
      "650                                  Gas en garrafa\n",
      "2009    Conexión formal a la red de gas con factura\n",
      "3963                                 Gas en garrafa\n",
      "5038                                  Leña o carbón\n",
      "5290                                 Gas en garrafa\n",
      "5352                                  Leña o carbón\n",
      "5379                                 Gas en garrafa\n",
      "5913    Conexión formal a la red de gas con factura\n",
      "6462                                 Gas en garrafa\n",
      "Name: cocina, dtype: object\n"
     ]
    }
   ],
   "source": [
    "fc = df1[df1['nombre_barrio'].isin(['Ferroviario', 'Casaca'])]\n",
    "#me devuelve las series en las q el nombre del barrio es Ferroviario o Casaca\n",
    "print(fc.cocina) #imprimo la columna cocina de las series anteriores"
   ]
  },
  {
   "cell_type": "code",
   "execution_count": 65,
   "metadata": {},
   "outputs": [
    {
     "data": {
      "text/plain": [
       "id_renabap                        6467\n",
       "nombre_barrio                     6467\n",
       "provincia                         6467\n",
       "departamento                      6467\n",
       "localidad                         6467\n",
       "cantidad_viviendas_aproximadas    6467\n",
       "cantidad_familias_aproximada      6467\n",
       "decada_de_creacion                6467\n",
       "anio_de_creacion                  6467\n",
       "energia_electrica                 6467\n",
       "efluentes_cloacales               6467\n",
       "agua_corriente                    6467\n",
       "cocina                            6467\n",
       "calefaccion                       6467\n",
       "titulo_propiedad                  6467\n",
       "clasificacion_barrio              6467\n",
       "superficie_m2                     6467\n",
       "dtype: int64"
      ]
     },
     "execution_count": 65,
     "metadata": {},
     "output_type": "execute_result"
    }
   ],
   "source": [
    "df1.count() #cuenta los valores no nulos de cada columna"
   ]
  },
  {
   "cell_type": "code",
   "execution_count": 66,
   "metadata": {
    "colab": {
     "base_uri": "https://localhost:8080/",
     "height": 178
    },
    "executionInfo": {
     "elapsed": 34,
     "status": "ok",
     "timestamp": 1734699340638,
     "user": {
      "displayName": "Jesica Daiana Acosta",
      "userId": "17322361132650003777"
     },
     "user_tz": 180
    },
    "id": "HSfJl3PObvjZ",
    "outputId": "e5670755-1c4f-4b02-ed5a-a79f6ca03c0b"
   },
   "outputs": [
    {
     "data": {
      "text/plain": [
       "nombre_barrio\n",
       "Ferroviario    11\n",
       "Casaca          1\n",
       "Name: count, dtype: int64"
      ]
     },
     "execution_count": 66,
     "metadata": {},
     "output_type": "execute_result"
    }
   ],
   "source": [
    "fc.nombre_barrio.value_counts() #cuenta cuantas veces aparece cada valor en la columna nombre_barrio"
   ]
  },
  {
   "cell_type": "code",
   "execution_count": 69,
   "metadata": {
    "colab": {
     "base_uri": "https://localhost:8080/",
     "height": 460
    },
    "executionInfo": {
     "elapsed": 30,
     "status": "ok",
     "timestamp": 1734699340639,
     "user": {
      "displayName": "Jesica Daiana Acosta",
      "userId": "17322361132650003777"
     },
     "user_tz": 180
    },
    "id": "X-pzqSqYYJgt",
    "outputId": "ab977429-e41b-46cc-c8f6-fbc671f218bc"
   },
   "outputs": [
    {
     "data": {
      "text/plain": [
       "2       146\n",
       "4        22\n",
       "277      33\n",
       "650     116\n",
       "2009     40\n",
       "3963     22\n",
       "5038     22\n",
       "5290     17\n",
       "5352     50\n",
       "5379     55\n",
       "5913     44\n",
       "6462    176\n",
       "Name: cantidad_familias_aproximada, dtype: int64"
      ]
     },
     "execution_count": 69,
     "metadata": {},
     "output_type": "execute_result"
    }
   ],
   "source": [
    "fc.cantidad_familias_aproximada\n",
    "#me devuelve solo la columna cantidad_familias_aproximada de las series anteriores"
   ]
  },
  {
   "cell_type": "code",
   "execution_count": 70,
   "metadata": {
    "colab": {
     "base_uri": "https://localhost:8080/",
     "height": 209
    },
    "executionInfo": {
     "elapsed": 28,
     "status": "ok",
     "timestamp": 1734699340639,
     "user": {
      "displayName": "Jesica Daiana Acosta",
      "userId": "17322361132650003777"
     },
     "user_tz": 180
    },
    "id": "0df0gyU_WxRZ",
    "outputId": "ca2d2f30-d04f-4112-fbaa-35db2f5bedc6"
   },
   "outputs": [
    {
     "data": {
      "text/plain": [
       "cocina\n",
       "Gas en garrafa                                 8\n",
       "Conexión formal a la red de gas con factura    2\n",
       "Leña o carbón                                  2\n",
       "Name: count, dtype: int64"
      ]
     },
     "execution_count": 70,
     "metadata": {},
     "output_type": "execute_result"
    }
   ],
   "source": [
    "fc['cocina'].value_counts()"
   ]
  },
  {
   "cell_type": "markdown",
   "metadata": {
    "id": "ATvefAP4dPGd"
   },
   "source": [
    "** ARRAYS **"
   ]
  },
  {
   "cell_type": "code",
   "execution_count": 72,
   "metadata": {
    "colab": {
     "base_uri": "https://localhost:8080/"
    },
    "executionInfo": {
     "elapsed": 143,
     "status": "ok",
     "timestamp": 1734699341956,
     "user": {
      "displayName": "Jesica Daiana Acosta",
      "userId": "17322361132650003777"
     },
     "user_tz": 180
    },
    "id": "68K7JdKy5CnH",
    "outputId": "d45cbe5c-9c37-4bbc-ff59-ed42c941571a"
   },
   "outputs": [
    {
     "data": {
      "text/plain": [
       "array([1, 2, 3, 4, 5])"
      ]
     },
     "execution_count": 72,
     "metadata": {},
     "output_type": "execute_result"
    }
   ],
   "source": [
    "#CREACION ARRAY CON NUNPY\n",
    "my_array = np.array([1,2,3,4,5])\n",
    "my_array"
   ]
  },
  {
   "cell_type": "code",
   "execution_count": 73,
   "metadata": {
    "colab": {
     "base_uri": "https://localhost:8080/"
    },
    "executionInfo": {
     "elapsed": 137,
     "status": "ok",
     "timestamp": 1734699341957,
     "user": {
      "displayName": "Jesica Daiana Acosta",
      "userId": "17322361132650003777"
     },
     "user_tz": 180
    },
    "id": "0XAHgbm85HUM",
    "outputId": "53563cd6-a494-4a8c-af43-6b53d75a5377"
   },
   "outputs": [
    {
     "data": {
      "text/plain": [
       "5"
      ]
     },
     "execution_count": 73,
     "metadata": {},
     "output_type": "execute_result"
    }
   ],
   "source": [
    "len(my_array)"
   ]
  },
  {
   "cell_type": "code",
   "execution_count": 20,
   "metadata": {
    "colab": {
     "base_uri": "https://localhost:8080/"
    },
    "executionInfo": {
     "elapsed": 130,
     "status": "ok",
     "timestamp": 1734699341958,
     "user": {
      "displayName": "Jesica Daiana Acosta",
      "userId": "17322361132650003777"
     },
     "user_tz": 180
    },
    "id": "gvGC5_oOk9Kg",
    "outputId": "13fff4ec-cf72-4ee8-dce3-dc6bfdbe32fa"
   },
   "outputs": [
    {
     "data": {
      "text/plain": [
       "5"
      ]
     },
     "execution_count": 20,
     "metadata": {},
     "output_type": "execute_result"
    }
   ],
   "source": [
    "my_array.size"
   ]
  },
  {
   "cell_type": "code",
   "execution_count": 74,
   "metadata": {
    "colab": {
     "base_uri": "https://localhost:8080/"
    },
    "executionInfo": {
     "elapsed": 125,
     "status": "ok",
     "timestamp": 1734699341959,
     "user": {
      "displayName": "Jesica Daiana Acosta",
      "userId": "17322361132650003777"
     },
     "user_tz": 180
    },
    "id": "vmhfS1FWlEDB",
    "outputId": "d3d34d74-b6d9-4909-ad4f-11df193bf01c"
   },
   "outputs": [
    {
     "data": {
      "text/plain": [
       "1"
      ]
     },
     "execution_count": 74,
     "metadata": {},
     "output_type": "execute_result"
    }
   ],
   "source": [
    "#DIMENSIONES DEL ARRAY\n",
    "my_array.ndim"
   ]
  },
  {
   "cell_type": "code",
   "execution_count": 76,
   "metadata": {
    "colab": {
     "base_uri": "https://localhost:8080/"
    },
    "executionInfo": {
     "elapsed": 119,
     "status": "ok",
     "timestamp": 1734699341960,
     "user": {
      "displayName": "Jesica Daiana Acosta",
      "userId": "17322361132650003777"
     },
     "user_tz": 180
    },
    "id": "XYZd1sDVlQWl",
    "outputId": "499e32af-b932-4d42-b26d-4964dab44772"
   },
   "outputs": [
    {
     "data": {
      "text/plain": [
       "array([[[ 1,  2,  3],\n",
       "        [ 4,  5,  6]],\n",
       "\n",
       "       [[ 7,  8,  9],\n",
       "        [10, 11, 12]]])"
      ]
     },
     "execution_count": 76,
     "metadata": {},
     "output_type": "execute_result"
    }
   ],
   "source": [
    "array_triple = np.array([[[1,2,3],[4,5,6]],[[7,8,9],[10,11,12]]])\n",
    "array_triple"
   ]
  },
  {
   "cell_type": "code",
   "execution_count": 78,
   "metadata": {
    "colab": {
     "base_uri": "https://localhost:8080/"
    },
    "executionInfo": {
     "elapsed": 114,
     "status": "ok",
     "timestamp": 1734699341960,
     "user": {
      "displayName": "Jesica Daiana Acosta",
      "userId": "17322361132650003777"
     },
     "user_tz": 180
    },
    "id": "JPaA6p-SmXt_",
    "outputId": "b4b46577-3670-4299-f5c2-b82cc81b10db"
   },
   "outputs": [
    {
     "data": {
      "text/plain": [
       "3"
      ]
     },
     "execution_count": 78,
     "metadata": {},
     "output_type": "execute_result"
    }
   ],
   "source": [
    "array_triple.ndim #me devuelve la cantidad de dimensiones"
   ]
  },
  {
   "cell_type": "code",
   "execution_count": 80,
   "metadata": {},
   "outputs": [
    {
     "data": {
      "text/plain": [
       "(2, 2, 3)"
      ]
     },
     "execution_count": 80,
     "metadata": {},
     "output_type": "execute_result"
    }
   ],
   "source": [
    "array_triple.shape #me devuelve la forma del array\n",
    "#(2,2,3) 2 matrices de 2 filas y 3 columnas"
   ]
  },
  {
   "cell_type": "code",
   "execution_count": 81,
   "metadata": {
    "colab": {
     "base_uri": "https://localhost:8080/"
    },
    "executionInfo": {
     "elapsed": 103,
     "status": "ok",
     "timestamp": 1734699341960,
     "user": {
      "displayName": "Jesica Daiana Acosta",
      "userId": "17322361132650003777"
     },
     "user_tz": 180
    },
    "id": "XP_4NcJWlgd9",
    "outputId": "ed6bfd6a-11e8-4d7b-e3e7-a8727c76e9a5"
   },
   "outputs": [
    {
     "data": {
      "text/plain": [
       "dtype('int64')"
      ]
     },
     "execution_count": 81,
     "metadata": {},
     "output_type": "execute_result"
    }
   ],
   "source": [
    "#DATA TYPE DEL ARRAY\n",
    "array_triple.dtype"
   ]
  },
  {
   "cell_type": "markdown",
   "metadata": {
    "id": "zcUpGrHS8f78"
   },
   "source": [
    "MANIPULACION DE ARRAYS"
   ]
  },
  {
   "cell_type": "markdown",
   "metadata": {},
   "source": [
    "OPERACIONES CON ARRAYS"
   ]
  },
  {
   "cell_type": "code",
   "execution_count": 82,
   "metadata": {
    "colab": {
     "base_uri": "https://localhost:8080/"
    },
    "executionInfo": {
     "elapsed": 62,
     "status": "ok",
     "timestamp": 1734699341961,
     "user": {
      "displayName": "Jesica Daiana Acosta",
      "userId": "17322361132650003777"
     },
     "user_tz": 180
    },
    "id": "y3bkQcO2qOSx",
    "outputId": "2c527b1e-d48c-4ce1-a226-88413c6d1b91"
   },
   "outputs": [
    {
     "name": "stdout",
     "output_type": "stream",
     "text": [
      "Array original :  [1 2 3 4 5]\n"
     ]
    }
   ],
   "source": [
    "my_array\n",
    "print('Array original : ',my_array)"
   ]
  },
  {
   "cell_type": "code",
   "execution_count": 84,
   "metadata": {
    "colab": {
     "base_uri": "https://localhost:8080/"
    },
    "executionInfo": {
     "elapsed": 58,
     "status": "ok",
     "timestamp": 1734699341961,
     "user": {
      "displayName": "Jesica Daiana Acosta",
      "userId": "17322361132650003777"
     },
     "user_tz": 180
    },
    "id": "Da1WGx-GqUXp",
    "outputId": "9e4b5d99-2385-458f-c142-e9666765d7a3"
   },
   "outputs": [
    {
     "name": "stdout",
     "output_type": "stream",
     "text": [
      "Array multiplicado por 100 :  [100 200 300 400 500]\n"
     ]
    }
   ],
   "source": [
    "array_nuevo = my_array * 100 #multiplico cada elemento del array por 100\n",
    "print('Array multiplicado por 100 : ',array_nuevo)"
   ]
  },
  {
   "cell_type": "code",
   "execution_count": 87,
   "metadata": {
    "colab": {
     "base_uri": "https://localhost:8080/"
    },
    "executionInfo": {
     "elapsed": 52,
     "status": "ok",
     "timestamp": 1734699341962,
     "user": {
      "displayName": "Jesica Daiana Acosta",
      "userId": "17322361132650003777"
     },
     "user_tz": 180
    },
    "id": "JWhqDjuoqwcI",
    "outputId": "233cf107-24da-4c75-f070-ec01b86680bc"
   },
   "outputs": [
    {
     "name": "stdout",
     "output_type": "stream",
     "text": [
      "Array veintes :  [ 20  40  60  80 100]\n"
     ]
    }
   ],
   "source": [
    "array_veintes = np.array( [20,40,60,80,100 ] )#\n",
    "print('Array veintes : ',array_veintes)"
   ]
  },
  {
   "cell_type": "markdown",
   "metadata": {},
   "source": [
    "SUMO A UN ARRAY OTRO ARRAY"
   ]
  },
  {
   "cell_type": "code",
   "execution_count": 88,
   "metadata": {
    "colab": {
     "base_uri": "https://localhost:8080/"
    },
    "executionInfo": {
     "elapsed": 47,
     "status": "ok",
     "timestamp": 1734699341962,
     "user": {
      "displayName": "Jesica Daiana Acosta",
      "userId": "17322361132650003777"
     },
     "user_tz": 180
    },
    "id": "mxCGQ811q3Vi",
    "outputId": "f6f5f9c7-c9fb-4452-a50f-090b04e47592"
   },
   "outputs": [
    {
     "name": "stdout",
     "output_type": "stream",
     "text": [
      "Array nuevo1 :  [ 21  42  63  84 105]\n"
     ]
    }
   ],
   "source": [
    "array_nuevo1 = my_array + array_veintes\n",
    "print('Array nuevo1 : ',array_nuevo1)"
   ]
  },
  {
   "cell_type": "code",
   "execution_count": 89,
   "metadata": {
    "colab": {
     "base_uri": "https://localhost:8080/"
    },
    "executionInfo": {
     "elapsed": 41,
     "status": "ok",
     "timestamp": 1734699341962,
     "user": {
      "displayName": "Jesica Daiana Acosta",
      "userId": "17322361132650003777"
     },
     "user_tz": 180
    },
    "id": "eokT_-AmNwAY",
    "outputId": "f184ae26-ee3d-4438-c58c-d58194c50165"
   },
   "outputs": [
    {
     "data": {
      "text/plain": [
       "dtype('int64')"
      ]
     },
     "execution_count": 89,
     "metadata": {},
     "output_type": "execute_result"
    }
   ],
   "source": [
    "#CAMBAR TIIPO DE DATO\n",
    "a = np.array ([1,2,3])\n",
    "a.dtype"
   ]
  },
  {
   "cell_type": "markdown",
   "metadata": {},
   "source": [
    "CAMBIO TIPO DE DATO"
   ]
  },
  {
   "cell_type": "code",
   "execution_count": 90,
   "metadata": {
    "colab": {
     "base_uri": "https://localhost:8080/"
    },
    "executionInfo": {
     "elapsed": 38,
     "status": "ok",
     "timestamp": 1734699341963,
     "user": {
      "displayName": "Jesica Daiana Acosta",
      "userId": "17322361132650003777"
     },
     "user_tz": 180
    },
    "id": "H3ao9dP2OBI-",
    "outputId": "81ea8852-24c5-494d-83d1-49ef3d0e6c0f"
   },
   "outputs": [
    {
     "data": {
      "text/plain": [
       "dtype('float64')"
      ]
     },
     "execution_count": 90,
     "metadata": {},
     "output_type": "execute_result"
    }
   ],
   "source": [
    "b = np.array ([1,2,3], dtype=float)\n",
    "b.dtype"
   ]
  },
  {
   "cell_type": "code",
   "execution_count": 91,
   "metadata": {
    "colab": {
     "base_uri": "https://localhost:8080/"
    },
    "executionInfo": {
     "elapsed": 35,
     "status": "ok",
     "timestamp": 1734699341963,
     "user": {
      "displayName": "Jesica Daiana Acosta",
      "userId": "17322361132650003777"
     },
     "user_tz": 180
    },
    "id": "RXTqqBhCOY5w",
    "outputId": "6f223e61-27c6-4de9-8bc8-81408eb8c161"
   },
   "outputs": [
    {
     "data": {
      "text/plain": [
       "array([1., 2., 3.])"
      ]
     },
     "execution_count": 91,
     "metadata": {},
     "output_type": "execute_result"
    }
   ],
   "source": [
    "b #cambie a flotando los nros declarados enteros"
   ]
  },
  {
   "cell_type": "code",
   "execution_count": 94,
   "metadata": {
    "colab": {
     "base_uri": "https://localhost:8080/"
    },
    "executionInfo": {
     "elapsed": 643,
     "status": "ok",
     "timestamp": 1734699342574,
     "user": {
      "displayName": "Jesica Daiana Acosta",
      "userId": "17322361132650003777"
     },
     "user_tz": 180
    },
    "id": "4Ye9RDXwN08A",
    "outputId": "982b0db2-727b-4244-91de-531212c41b11"
   },
   "outputs": [
    {
     "data": {
      "text/plain": [
       "array([ True, False,  True, False, False,  True])"
      ]
     },
     "execution_count": 94,
     "metadata": {},
     "output_type": "execute_result"
    }
   ],
   "source": [
    "c = np.array ([1,0,3,0,0,293332], dtype=bool)\n",
    "c #CREO UN ARRAY DE BOOLEANOS"
   ]
  },
  {
   "cell_type": "code",
   "execution_count": 95,
   "metadata": {
    "colab": {
     "base_uri": "https://localhost:8080/"
    },
    "executionInfo": {
     "elapsed": 76,
     "status": "ok",
     "timestamp": 1734699342574,
     "user": {
      "displayName": "Jesica Daiana Acosta",
      "userId": "17322361132650003777"
     },
     "user_tz": 180
    },
    "id": "YsUNh9l-Ou-e",
    "outputId": "af59a7bd-7df5-4411-d723-a6f9c666987e"
   },
   "outputs": [
    {
     "data": {
      "text/plain": [
       "array([1.+0.j, 0.+0.j, 3.+0.j])"
      ]
     },
     "execution_count": 95,
     "metadata": {},
     "output_type": "execute_result"
    }
   ],
   "source": [
    "c = np.array ([1,0,3], dtype=complex)\n",
    "c"
   ]
  },
  {
   "cell_type": "markdown",
   "metadata": {},
   "source": [
    "CREACION DE ARRAYS"
   ]
  },
  {
   "cell_type": "code",
   "execution_count": 96,
   "metadata": {
    "colab": {
     "base_uri": "https://localhost:8080/"
    },
    "executionInfo": {
     "elapsed": 75,
     "status": "ok",
     "timestamp": 1734699342575,
     "user": {
      "displayName": "Jesica Daiana Acosta",
      "userId": "17322361132650003777"
     },
     "user_tz": 180
    },
    "id": "G_lTW0gjPNVv",
    "outputId": "5af46d62-b6aa-4600-de1c-77100ece9678"
   },
   "outputs": [
    {
     "data": {
      "text/plain": [
       "array([0, 1, 2, 3, 4, 5, 6, 7, 8, 9])"
      ]
     },
     "execution_count": 96,
     "metadata": {},
     "output_type": "execute_result"
    }
   ],
   "source": [
    "#CON RANGO\n",
    "n = np.arange(10)\n",
    "n#crea un array de 0 a 9"
   ]
  },
  {
   "cell_type": "code",
   "execution_count": 40,
   "metadata": {
    "colab": {
     "base_uri": "https://localhost:8080/"
    },
    "executionInfo": {
     "elapsed": 68,
     "status": "ok",
     "timestamp": 1734699342575,
     "user": {
      "displayName": "Jesica Daiana Acosta",
      "userId": "17322361132650003777"
     },
     "user_tz": 180
    },
    "id": "nCdrOTfePM6c",
    "outputId": "dc6d3bf3-b624-440e-f2df-11ffdc60bc4f"
   },
   "outputs": [
    {
     "data": {
      "text/plain": [
       "array([10, 12, 14, 16, 18])"
      ]
     },
     "execution_count": 40,
     "metadata": {},
     "output_type": "execute_result"
    }
   ],
   "source": [
    "#RANGO CON SALTOS\n",
    "n = np.arange(10,20,2)\n",
    "n\n",
    "#10 a 20 de a 2"
   ]
  },
  {
   "cell_type": "code",
   "execution_count": 41,
   "metadata": {
    "colab": {
     "base_uri": "https://localhost:8080/"
    },
    "executionInfo": {
     "elapsed": 65,
     "status": "ok",
     "timestamp": 1734699342575,
     "user": {
      "displayName": "Jesica Daiana Acosta",
      "userId": "17322361132650003777"
     },
     "user_tz": 180
    },
    "id": "5STGUywFPlvd",
    "outputId": "20b4fd38-b18a-4c17-d16f-4f50e8a5a7f3"
   },
   "outputs": [
    {
     "data": {
      "text/plain": [
       "array([0., 0., 0., 0., 0., 0., 0., 0., 0., 0.])"
      ]
     },
     "execution_count": 41,
     "metadata": {},
     "output_type": "execute_result"
    }
   ],
   "source": [
    "# ARREGLOS DE ZEROS\n",
    "n = np.zeros(10)\n",
    "n"
   ]
  },
  {
   "cell_type": "code",
   "execution_count": 42,
   "metadata": {
    "colab": {
     "base_uri": "https://localhost:8080/"
    },
    "executionInfo": {
     "elapsed": 62,
     "status": "ok",
     "timestamp": 1734699342575,
     "user": {
      "displayName": "Jesica Daiana Acosta",
      "userId": "17322361132650003777"
     },
     "user_tz": 180
    },
    "id": "Xewqh-ssPla7",
    "outputId": "06b82cca-8425-481c-d8e2-2ca0fa1609f0"
   },
   "outputs": [
    {
     "data": {
      "text/plain": [
       "array([0, 0, 0, 0, 0, 0, 0, 0, 0, 0])"
      ]
     },
     "execution_count": 42,
     "metadata": {},
     "output_type": "execute_result"
    }
   ],
   "source": [
    "n = np.zeros(10, dtype=int)\n",
    "n"
   ]
  },
  {
   "cell_type": "code",
   "execution_count": 43,
   "metadata": {
    "colab": {
     "base_uri": "https://localhost:8080/"
    },
    "executionInfo": {
     "elapsed": 60,
     "status": "ok",
     "timestamp": 1734699342575,
     "user": {
      "displayName": "Jesica Daiana Acosta",
      "userId": "17322361132650003777"
     },
     "user_tz": 180
    },
    "id": "yl5zXywaPlGn",
    "outputId": "809753d5-fe63-4e5b-e51e-a64411c8e041"
   },
   "outputs": [
    {
     "data": {
      "text/plain": [
       "array([1., 1., 1., 1., 1., 1., 1., 1., 1., 1.])"
      ]
     },
     "execution_count": 43,
     "metadata": {},
     "output_type": "execute_result"
    }
   ],
   "source": [
    "#ARREGLOS DE UNOS\n",
    "n = np.ones(10)\n",
    "n"
   ]
  },
  {
   "cell_type": "code",
   "execution_count": 98,
   "metadata": {
    "colab": {
     "base_uri": "https://localhost:8080/"
    },
    "executionInfo": {
     "elapsed": 58,
     "status": "ok",
     "timestamp": 1734699342575,
     "user": {
      "displayName": "Jesica Daiana Acosta",
      "userId": "17322361132650003777"
     },
     "user_tz": 180
    },
    "id": "pIbHv0ALP9Sw",
    "outputId": "458b0123-1d21-49ee-e1f1-df73242ae504"
   },
   "outputs": [
    {
     "data": {
      "text/plain": [
       "array([0.0000e+000, 4.9407e-324, 9.8813e-324, 1.4822e-323, 1.9763e-323,\n",
       "       3.1927e-320, 3.1931e-320, 3.1936e-320, 3.1941e-320, 3.1946e-320])"
      ]
     },
     "execution_count": 98,
     "metadata": {},
     "output_type": "execute_result"
    }
   ],
   "source": [
    "#ARREGLO A PARTIR E DATOS BASURA, SIRVE PARA RESERVAR EL ESPACIO EN MEMORIA, LUEGO PODEMOS MODIFICARLOS\n",
    "q = np.empty(10) #crea un array de 10 elementos con datos basura\n",
    "q"
   ]
  },
  {
   "cell_type": "code",
   "execution_count": 45,
   "metadata": {
    "colab": {
     "base_uri": "https://localhost:8080/"
    },
    "executionInfo": {
     "elapsed": 54,
     "status": "ok",
     "timestamp": 1734699342575,
     "user": {
      "displayName": "Jesica Daiana Acosta",
      "userId": "17322361132650003777"
     },
     "user_tz": 180
    },
    "id": "fqwSYU5DQQ99",
    "outputId": "c9b16d25-d3df-4722-f878-98c71a7f50b3"
   },
   "outputs": [
    {
     "data": {
      "text/plain": [
       "array([6, 0, 1, 8, 2, 8, 8, 5, 8, 9])"
      ]
     },
     "execution_count": 45,
     "metadata": {},
     "output_type": "execute_result"
    }
   ],
   "source": [
    "#ARREGLOS DE NROS ENTEROS ALEATORIOS\n",
    "r = np.random.randint(20, size=10)\n",
    "r"
   ]
  },
  {
   "cell_type": "code",
   "execution_count": 46,
   "metadata": {
    "colab": {
     "base_uri": "https://localhost:8080/"
    },
    "executionInfo": {
     "elapsed": 53,
     "status": "ok",
     "timestamp": 1734699342576,
     "user": {
      "displayName": "Jesica Daiana Acosta",
      "userId": "17322361132650003777"
     },
     "user_tz": 180
    },
    "id": "sISGqWhPQodh",
    "outputId": "1f9da558-3ceb-43ba-9bcd-1cbae01a3cf8"
   },
   "outputs": [
    {
     "data": {
      "text/plain": [
       "array([28, 29, 29, 25, 25, 27, 26, 29, 28, 27])"
      ]
     },
     "execution_count": 46,
     "metadata": {},
     "output_type": "execute_result"
    }
   ],
   "source": [
    "a = np.random.randint(25,30,10)\n",
    "a\n",
    "#NROS RANDOM DE X A Y, Z CANT"
   ]
  },
  {
   "cell_type": "code",
   "execution_count": 47,
   "metadata": {
    "colab": {
     "base_uri": "https://localhost:8080/"
    },
    "executionInfo": {
     "elapsed": 51,
     "status": "ok",
     "timestamp": 1734699342576,
     "user": {
      "displayName": "Jesica Daiana Acosta",
      "userId": "17322361132650003777"
     },
     "user_tz": 180
    },
    "id": "biJa4Z_tQoCg",
    "outputId": "517ba96a-509f-4dec-dde7-e619754a66f3"
   },
   "outputs": [
    {
     "data": {
      "text/plain": [
       "array([1000,   29,   29,   25,   25,   27,   26,   29,   28,   27])"
      ]
     },
     "execution_count": 47,
     "metadata": {},
     "output_type": "execute_result"
    }
   ],
   "source": [
    "#MODIFICAR VALORES DESDE EL INDICE\n",
    "a[0] = 1000\n",
    "a"
   ]
  },
  {
   "cell_type": "code",
   "execution_count": 48,
   "metadata": {
    "colab": {
     "base_uri": "https://localhost:8080/"
    },
    "executionInfo": {
     "elapsed": 49,
     "status": "ok",
     "timestamp": 1734699342576,
     "user": {
      "displayName": "Jesica Daiana Acosta",
      "userId": "17322361132650003777"
     },
     "user_tz": 180
    },
    "id": "pnsAAjCGZwH8",
    "outputId": "467cff0d-a040-4ce6-8ac7-d7c6f35bdc57"
   },
   "outputs": [
    {
     "data": {
      "text/plain": [
       "array([29, 29, 25, 25])"
      ]
     },
     "execution_count": 48,
     "metadata": {},
     "output_type": "execute_result"
    }
   ],
   "source": [
    "#GENERAR SUB ARREGLOS PARTIENDO DE UN ARREGLO ORIGINAL\n",
    "# A[START:END:SALTOS]\n",
    "t = a[1:5]\n",
    "t"
   ]
  },
  {
   "cell_type": "code",
   "execution_count": 49,
   "metadata": {
    "colab": {
     "base_uri": "https://localhost:8080/"
    },
    "executionInfo": {
     "elapsed": 47,
     "status": "ok",
     "timestamp": 1734699342576,
     "user": {
      "displayName": "Jesica Daiana Acosta",
      "userId": "17322361132650003777"
     },
     "user_tz": 180
    },
    "id": "6-JyhgNjaHzX",
    "outputId": "9979e25d-cca9-4428-c9aa-c88b4c434561"
   },
   "outputs": [
    {
     "data": {
      "text/plain": [
       "array([1000,   29,   25,   26])"
      ]
     },
     "execution_count": 49,
     "metadata": {},
     "output_type": "execute_result"
    }
   ],
   "source": [
    "#OMITO DECLARAR EL CERO, SALTO DE 2 EN 2\n",
    "y = a[:8:2]\n",
    "y"
   ]
  },
  {
   "cell_type": "code",
   "execution_count": 60,
   "metadata": {
    "colab": {
     "base_uri": "https://localhost:8080/"
    },
    "executionInfo": {
     "elapsed": 270,
     "status": "ok",
     "timestamp": 1734699491219,
     "user": {
      "displayName": "Jesica Daiana Acosta",
      "userId": "17322361132650003777"
     },
     "user_tz": 180
    },
    "id": "wtab4PhnaCRb",
    "outputId": "5637e8cd-d198-4ef5-8872-2ec503379fc3"
   },
   "outputs": [
    {
     "data": {
      "text/plain": [
       "array([3, 8, 6, 4, 9, 1, 8, 6, 2, 1, 4, 1, 3, 7, 6, 7, 0, 5, 9, 4])"
      ]
     },
     "execution_count": 60,
     "metadata": {},
     "output_type": "execute_result"
    }
   ],
   "source": [
    "#VECTORIZAR\n",
    "a = np.random.randint(0,10,20)\n",
    "a"
   ]
  },
  {
   "cell_type": "code",
   "execution_count": 67,
   "metadata": {
    "colab": {
     "base_uri": "https://localhost:8080/"
    },
    "executionInfo": {
     "elapsed": 235,
     "status": "ok",
     "timestamp": 1734699657011,
     "user": {
      "displayName": "Jesica Daiana Acosta",
      "userId": "17322361132650003777"
     },
     "user_tz": 180
    },
    "id": "x-qYBxkmJagc",
    "outputId": "227b1c13-b8a4-4b8f-9d35-f1438aca6313"
   },
   "outputs": [
    {
     "data": {
      "text/plain": [
       "15"
      ]
     },
     "execution_count": 67,
     "metadata": {},
     "output_type": "execute_result"
    }
   ],
   "source": [
    "def operacion(valor):\n",
    "  return (valor + 2) +10\n",
    "\n",
    "operacion(3)"
   ]
  },
  {
   "cell_type": "code",
   "execution_count": 68,
   "metadata": {
    "colab": {
     "base_uri": "https://localhost:8080/"
    },
    "executionInfo": {
     "elapsed": 243,
     "status": "ok",
     "timestamp": 1734699659065,
     "user": {
      "displayName": "Jesica Daiana Acosta",
      "userId": "17322361132650003777"
     },
     "user_tz": 180
    },
    "id": "TmRHTR8dJokb",
    "outputId": "c8be9e12-675c-4691-9d2c-8004a256c83c"
   },
   "outputs": [
    {
     "name": "stdout",
     "output_type": "stream",
     "text": [
      "15\n",
      "20\n",
      "18\n",
      "16\n",
      "21\n",
      "13\n",
      "20\n",
      "18\n",
      "14\n",
      "13\n",
      "16\n",
      "13\n",
      "15\n",
      "19\n",
      "18\n",
      "19\n",
      "12\n",
      "17\n",
      "21\n",
      "16\n"
     ]
    }
   ],
   "source": [
    "for valor in a:\n",
    "  print(operacion(valor))"
   ]
  },
  {
   "cell_type": "code",
   "execution_count": 72,
   "metadata": {
    "colab": {
     "base_uri": "https://localhost:8080/"
    },
    "executionInfo": {
     "elapsed": 331,
     "status": "ok",
     "timestamp": 1734700744561,
     "user": {
      "displayName": "Jesica Daiana Acosta",
      "userId": "17322361132650003777"
     },
     "user_tz": 180
    },
    "id": "S6-g5G8dJoca",
    "outputId": "4bc0eae3-9c1d-47b8-89b8-0ef2c923438a"
   },
   "outputs": [
    {
     "data": {
      "text/plain": [
       "array([15, 20, 18, 16, 21, 13, 20, 18, 14, 13, 16, 13, 15, 19, 18, 19, 12,\n",
       "       17, 21, 16])"
      ]
     },
     "execution_count": 72,
     "metadata": {},
     "output_type": "execute_result"
    }
   ],
   "source": [
    "#FUNCION VECTORIZAR PARA CUANDO TENGO MUCHOS VALORES\n",
    "\n",
    "vector = np.vectorize(operacion) #cre un valor desde los valores que devuelve la funcion operacion\n",
    "vector (a) #asigno a ese vector (q a su vez se asigna a una funcion) los valores demi array a"
   ]
  },
  {
   "cell_type": "code",
   "execution_count": 73,
   "metadata": {
    "colab": {
     "base_uri": "https://localhost:8080/"
    },
    "executionInfo": {
     "elapsed": 284,
     "status": "ok",
     "timestamp": 1734700759885,
     "user": {
      "displayName": "Jesica Daiana Acosta",
      "userId": "17322361132650003777"
     },
     "user_tz": 180
    },
    "id": "x3M1s6WlJoRH",
    "outputId": "2a107539-4bbb-4a84-fd23-83d5d362dc37"
   },
   "outputs": [
    {
     "data": {
      "text/plain": [
       "array([149, 109, 126, 141, 107, 143, 102, 137, 124, 149, 128, 104, 137,\n",
       "       110, 136, 113, 136, 112, 138, 137])"
      ]
     },
     "execution_count": 73,
     "metadata": {},
     "output_type": "execute_result"
    }
   ],
   "source": [
    "b = np.random.randint(100,150,20)\n",
    "b"
   ]
  },
  {
   "cell_type": "code",
   "execution_count": 74,
   "metadata": {
    "colab": {
     "base_uri": "https://localhost:8080/"
    },
    "executionInfo": {
     "elapsed": 280,
     "status": "ok",
     "timestamp": 1734700771816,
     "user": {
      "displayName": "Jesica Daiana Acosta",
      "userId": "17322361132650003777"
     },
     "user_tz": 180
    },
    "id": "oLysnh35JkFz",
    "outputId": "28e649fe-1fd4-4a67-de13-6dde19201e84"
   },
   "outputs": [
    {
     "data": {
      "text/plain": [
       "array([161, 121, 138, 153, 119, 155, 114, 149, 136, 161, 140, 116, 149,\n",
       "       122, 148, 125, 148, 124, 150, 149])"
      ]
     },
     "execution_count": 74,
     "metadata": {},
     "output_type": "execute_result"
    }
   ],
   "source": [
    "vector2 = np.vectorize(operacion)\n",
    "vector2(b)"
   ]
  },
  {
   "cell_type": "code",
   "execution_count": 78,
   "metadata": {
    "colab": {
     "base_uri": "https://localhost:8080/"
    },
    "executionInfo": {
     "elapsed": 243,
     "status": "ok",
     "timestamp": 1734701037903,
     "user": {
      "displayName": "Jesica Daiana Acosta",
      "userId": "17322361132650003777"
     },
     "user_tz": 180
    },
    "id": "jF0-5skKJiLs",
    "outputId": "f55446a8-3cb1-4e21-8a19-9129cb1c5bd2"
   },
   "outputs": [
    {
     "data": {
      "text/plain": [
       "array([349, 309, 326, 341, 307, 343, 302, 337, 324, 349, 328, 304, 337,\n",
       "       310, 336, 313, 336, 312, 338, 337])"
      ]
     },
     "execution_count": 78,
     "metadata": {},
     "output_type": "execute_result"
    }
   ],
   "source": [
    "#CREO FUNCION LAMBDA (lambda parámetro: OPERACION Q DEVUELVE))\n",
    "vector3 = np.vectorize(lambda x: x+200)\n",
    "vector4 =vector3(b) #APLICO LA FUNCION ELEMENTO POR ELEMENTO DE b\n",
    "vector4"
   ]
  },
  {
   "cell_type": "code",
   "execution_count": 88,
   "metadata": {
    "executionInfo": {
     "elapsed": 266,
     "status": "ok",
     "timestamp": 1734703189503,
     "user": {
      "displayName": "Jesica Daiana Acosta",
      "userId": "17322361132650003777"
     },
     "user_tz": 180
    },
    "id": "HQ6FnIJ2PcQw"
   },
   "outputs": [],
   "source": [
    "#CONCATENACION DE ARRAYS"
   ]
  },
  {
   "cell_type": "code",
   "execution_count": 50,
   "metadata": {
    "executionInfo": {
     "elapsed": 45,
     "status": "ok",
     "timestamp": 1734699342576,
     "user": {
      "displayName": "Jesica Daiana Acosta",
      "userId": "17322361132650003777"
     },
     "user_tz": 180
    },
    "id": "bWoeqPEC8hgR"
   },
   "outputs": [],
   "source": [
    "x =[1,2,3]\n",
    "y = [4,5,6]\n",
    "z = [7,8,9]"
   ]
  },
  {
   "cell_type": "code",
   "execution_count": 51,
   "metadata": {
    "colab": {
     "base_uri": "https://localhost:8080/"
    },
    "executionInfo": {
     "elapsed": 44,
     "status": "ok",
     "timestamp": 1734699342576,
     "user": {
      "displayName": "Jesica Daiana Acosta",
      "userId": "17322361132650003777"
     },
     "user_tz": 180
    },
    "id": "6esiDFem8sa-",
    "outputId": "1e0a08f1-3933-455e-d9b2-47da8a3ec164"
   },
   "outputs": [
    {
     "data": {
      "text/plain": [
       "array([1, 2, 3, 4, 5, 6, 7, 8, 9])"
      ]
     },
     "execution_count": 51,
     "metadata": {},
     "output_type": "execute_result"
    }
   ],
   "source": [
    "juntos = np.concatenate([x,y,z])\n",
    "juntos"
   ]
  },
  {
   "cell_type": "code",
   "execution_count": 82,
   "metadata": {
    "executionInfo": {
     "elapsed": 253,
     "status": "ok",
     "timestamp": 1734701172908,
     "user": {
      "displayName": "Jesica Daiana Acosta",
      "userId": "17322361132650003777"
     },
     "user_tz": 180
    },
    "id": "cyHdBJDM827o"
   },
   "outputs": [],
   "source": [
    "a =[[1,2,3],[4,5,6]]\n",
    "b =[[7,8,9],[10,11,12]]\n",
    "c = [[13,14,15],[16,17,18]]\n",
    "d = [[19,20,21],[22,23,24]]\n",
    "e=[[25,26,27],[28,29,30]]\n",
    "\n",
    "array_concatenado= np.concatenate([a,b,c,d,e], axis=0) #AXIS 1 EJE X, AXIS 0 EJE Y\n"
   ]
  },
  {
   "cell_type": "code",
   "execution_count": 87,
   "metadata": {
    "colab": {
     "base_uri": "https://localhost:8080/"
    },
    "executionInfo": {
     "elapsed": 258,
     "status": "ok",
     "timestamp": 1734701244760,
     "user": {
      "displayName": "Jesica Daiana Acosta",
      "userId": "17322361132650003777"
     },
     "user_tz": 180
    },
    "id": "KiRIV4RLPm-H",
    "outputId": "250331ce-9784-44db-c155-38a063a202c3"
   },
   "outputs": [
    {
     "name": "stdout",
     "output_type": "stream",
     "text": [
      "[[ 1  2  3]\n",
      " [ 4  5  6]\n",
      " [ 7  8  9]\n",
      " [10 11 12]\n",
      " [13 14 15]\n",
      " [16 17 18]\n",
      " [19 20 21]\n",
      " [22 23 24]\n",
      " [25 26 27]\n",
      " [28 29 30]]\n"
     ]
    }
   ],
   "source": [
    "print(array_concatenado)"
   ]
  },
  {
   "cell_type": "code",
   "execution_count": 53,
   "metadata": {
    "colab": {
     "base_uri": "https://localhost:8080/"
    },
    "executionInfo": {
     "elapsed": 37,
     "status": "ok",
     "timestamp": 1734699342576,
     "user": {
      "displayName": "Jesica Daiana Acosta",
      "userId": "17322361132650003777"
     },
     "user_tz": 180
    },
    "id": "42DZ29QA9EKL",
    "outputId": "7bca3006-8482-4b50-82e7-8aa8f51dc1fd"
   },
   "outputs": [
    {
     "data": {
      "text/plain": [
       "array([[ 1,  2,  3],\n",
       "       [ 4,  5,  6],\n",
       "       [ 7,  8,  9],\n",
       "       [10, 11, 12]])"
      ]
     },
     "execution_count": 53,
     "metadata": {},
     "output_type": "execute_result"
    }
   ],
   "source": [
    "np.concatenate([a,b], axis=0)"
   ]
  },
  {
   "cell_type": "code",
   "execution_count": 54,
   "metadata": {
    "colab": {
     "base_uri": "https://localhost:8080/"
    },
    "executionInfo": {
     "elapsed": 35,
     "status": "ok",
     "timestamp": 1734699342576,
     "user": {
      "displayName": "Jesica Daiana Acosta",
      "userId": "17322361132650003777"
     },
     "user_tz": 180
    },
    "id": "loAqtcbY-ogL",
    "outputId": "3f89be4c-60f8-440b-dcb8-19afb8e12605"
   },
   "outputs": [
    {
     "data": {
      "text/plain": [
       "array([[ 1,  2,  3,  7,  8,  9],\n",
       "       [ 4,  5,  6, 10, 11, 12],\n",
       "       [25, 26, 27, 19, 20, 21],\n",
       "       [28, 29, 30, 22, 23, 24]])"
      ]
     },
     "execution_count": 54,
     "metadata": {},
     "output_type": "execute_result"
    }
   ],
   "source": [
    "a =[[1,2,3],[4,5,6],[25,26,27],[28,29,30]]\n",
    "b =[[7,8,9],[10,11,12],[19,20,21],[22,23,24]]\n",
    "\n",
    "np_hor= np.concatenate([a,b], axis=1) #horizontal\n",
    "np_hor"
   ]
  },
  {
   "cell_type": "code",
   "execution_count": 55,
   "metadata": {
    "colab": {
     "base_uri": "https://localhost:8080/"
    },
    "executionInfo": {
     "elapsed": 33,
     "status": "ok",
     "timestamp": 1734699342577,
     "user": {
      "displayName": "Jesica Daiana Acosta",
      "userId": "17322361132650003777"
     },
     "user_tz": 180
    },
    "id": "Q6R5CR0hC0ug",
    "outputId": "8503ade5-9df5-4100-d573-58037c75ea36"
   },
   "outputs": [
    {
     "data": {
      "text/plain": [
       "(4, 6)"
      ]
     },
     "execution_count": 55,
     "metadata": {},
     "output_type": "execute_result"
    }
   ],
   "source": [
    "np_hor.shape #filas,columnas"
   ]
  },
  {
   "cell_type": "code",
   "execution_count": 56,
   "metadata": {
    "colab": {
     "base_uri": "https://localhost:8080/"
    },
    "executionInfo": {
     "elapsed": 31,
     "status": "ok",
     "timestamp": 1734699342577,
     "user": {
      "displayName": "Jesica Daiana Acosta",
      "userId": "17322361132650003777"
     },
     "user_tz": 180
    },
    "id": "Zq6MYUHo-27S",
    "outputId": "047fec1e-efe3-45ca-ed11-e8bd7e102de6"
   },
   "outputs": [
    {
     "data": {
      "text/plain": [
       "array([[ 1,  2,  3],\n",
       "       [ 4,  5,  6],\n",
       "       [25, 26, 27],\n",
       "       [28, 29, 30],\n",
       "       [ 7,  8,  9],\n",
       "       [10, 11, 12],\n",
       "       [19, 20, 21],\n",
       "       [22, 23, 24]])"
      ]
     },
     "execution_count": 56,
     "metadata": {},
     "output_type": "execute_result"
    }
   ],
   "source": [
    "np_ver=np.concatenate([a,b], axis=0) #horizontal\n",
    "np_ver"
   ]
  },
  {
   "cell_type": "code",
   "execution_count": 57,
   "metadata": {
    "colab": {
     "base_uri": "https://localhost:8080/"
    },
    "executionInfo": {
     "elapsed": 29,
     "status": "ok",
     "timestamp": 1734699342577,
     "user": {
      "displayName": "Jesica Daiana Acosta",
      "userId": "17322361132650003777"
     },
     "user_tz": 180
    },
    "id": "oFRbW-HECXKa",
    "outputId": "44d5feae-5479-4500-d04d-c1f5f6994fd2"
   },
   "outputs": [
    {
     "data": {
      "text/plain": [
       "(8, 3)"
      ]
     },
     "execution_count": 57,
     "metadata": {},
     "output_type": "execute_result"
    }
   ],
   "source": [
    "np_ver.shape #filas, columnasd"
   ]
  },
  {
   "cell_type": "code",
   "execution_count": 58,
   "metadata": {
    "colab": {
     "base_uri": "https://localhost:8080/"
    },
    "executionInfo": {
     "elapsed": 28,
     "status": "ok",
     "timestamp": 1734699342577,
     "user": {
      "displayName": "Jesica Daiana Acosta",
      "userId": "17322361132650003777"
     },
     "user_tz": 180
    },
    "id": "MiTkB-qeCsUv",
    "outputId": "26303227-fc7e-46ff-b5be-d40250fbe099"
   },
   "outputs": [
    {
     "data": {
      "text/plain": [
       "array([[ 1,  2,  3,  4,  5,  6, 25, 26],\n",
       "       [27, 28, 29, 30,  7,  8,  9, 10],\n",
       "       [11, 12, 19, 20, 21, 22, 23, 24]])"
      ]
     },
     "execution_count": 58,
     "metadata": {},
     "output_type": "execute_result"
    }
   ],
   "source": [
    "ar_reshape = np_ver.reshape(3,8)\n",
    "ar_reshape"
   ]
  }
 ],
 "metadata": {
  "colab": {
   "authorship_tag": "ABX9TyOSbwblbNbUV8NmLbPdjIj0",
   "mount_file_id": "1USP-Z9dg3IH4aJP4ytgNkCrDBBEDtd41",
   "provenance": [
    {
     "file_id": "1y9vq3dE1q-PEXmAJ1JgYTE9dUN9OsSH-",
     "timestamp": 1734483665788
    }
   ]
  },
  "kernelspec": {
   "display_name": ".venv",
   "language": "python",
   "name": "python3"
  },
  "language_info": {
   "codemirror_mode": {
    "name": "ipython",
    "version": 3
   },
   "file_extension": ".py",
   "mimetype": "text/x-python",
   "name": "python",
   "nbconvert_exporter": "python",
   "pygments_lexer": "ipython3",
   "version": "3.13.0"
  }
 },
 "nbformat": 4,
 "nbformat_minor": 0
}
